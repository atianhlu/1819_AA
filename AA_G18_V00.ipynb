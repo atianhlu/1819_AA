{
 "cells": [
  {
   "cell_type": "code",
   "execution_count": 6,
   "metadata": {},
   "outputs": [
    {
     "name": "stdout",
     "output_type": "stream",
     "text": [
      "train on 3050 instances, test on 1017 instances\n",
      "accuracy: 0.6145526057030481\n",
      "Most Informative Features\n",
      "                 reduces = True              pos : neg    =     20.0 : 1.0\n",
      "                adoption = True              neg : pos    =     14.2 : 1.0\n",
      "              assistance = True              neg : pos    =     13.1 : 1.0\n",
      "                  aids', = True              pos : neg    =     10.8 : 1.0\n",
      "             libertarian = True              neg : pos    =     10.3 : 1.0\n",
      "                   clubs = True              neg : pos    =      9.9 : 1.0\n",
      "                existing = True              pos : neg    =      9.7 : 1.0\n",
      "                   strip = True              neg : pos    =      9.5 : 1.0\n",
      "           hydroelectric = True              neg : pos    =      9.2 : 1.0\n",
      "               political = True              neg : pos    =      8.9 : 1.0\n"
     ]
    }
   ],
   "source": [
    "import nltk.classify.util\n",
    "from nltk.classify import NaiveBayesClassifier\n",
    "from nltk.corpus import movie_reviews\n",
    "import numpy as np\n",
    "import pandas as pd\n",
    "\n",
    "data=pd.read_csv('e_train.csv',sep=',',encoding='utf-8',low_memory=False) \n",
    "\n",
    "#def word_feats(words):\n",
    "#    return dict([(word, True) for word in words])\n",
    "\n",
    "def readCSV2List(filePath):\n",
    "    try:\n",
    "        file=open(filePath,'r', encoding='UTF-8')\n",
    "        context = file.read() \n",
    "        list_result=context.split('\\n')\n",
    "        length=len(list_result)\n",
    "        for i in range(length):\n",
    "            list_result[i]=list_result[i].split(',')\n",
    "        return list_result\n",
    "    finally:\n",
    "        file.close();\n",
    "\n",
    "neg = data[data['label']==0]\n",
    "negcont = neg['candidate']\n",
    "negcont.to_csv('neg_cont.csv')\n",
    "\n",
    "pos = data[data['label']==1]\n",
    "poscont = pos['candidate']\n",
    "poscont.to_csv('pos_cont.csv')\n",
    "\n",
    "data_neg=pd.read_csv('neg_cont.csv',sep=',',encoding='utf-8',low_memory=False) \n",
    "data_pos=pd.read_csv('pos_cont.csv',sep=',',encoding='utf-8',low_memory=False) \n",
    "\n",
    "def preprocess(s):\n",
    "    return {word: True for word in s.lower().split()}\n",
    "\n",
    "list_neg = readCSV2List('neg_cont.csv')\n",
    "negfeats=[(preprocess(str(list_neg[i])), 'neg') for i in range(len(list_neg))]\n",
    "list_pos = readCSV2List('pos_cont.csv')\n",
    "posfeats=[(preprocess(str(list_pos[i])), 'pos') for i in range(len(list_pos))]\n",
    "\n",
    "negcutoff = int(len(negfeats)*3/4)\n",
    "poscutoff = int(len(posfeats)*3/4)\n",
    " \n",
    "trainfeats = negfeats[:negcutoff] + posfeats[:poscutoff]\n",
    "testfeats = negfeats[negcutoff:] + posfeats[poscutoff:]\n",
    "print ('train on %d instances, test on %d instances' % (len(trainfeats), len(testfeats)))\n",
    " \n",
    "classifier = NaiveBayesClassifier.train(trainfeats)\n",
    "print ('accuracy:', nltk.classify.util.accuracy(classifier, testfeats))\n",
    "classifier.show_most_informative_features()"
   ]
  },
  {
   "cell_type": "code",
   "execution_count": null,
   "metadata": {},
   "outputs": [],
   "source": []
  }
 ],
 "metadata": {
  "kernelspec": {
   "display_name": "Python 3",
   "language": "python",
   "name": "python3"
  },
  "language_info": {
   "codemirror_mode": {
    "name": "ipython",
    "version": 3
   },
   "file_extension": ".py",
   "mimetype": "text/x-python",
   "name": "python",
   "nbconvert_exporter": "python",
   "pygments_lexer": "ipython3",
   "version": "3.6.5"
  }
 },
 "nbformat": 4,
 "nbformat_minor": 2
}
