{
 "cells": [
  {
   "cell_type": "code",
   "execution_count": 7,
   "metadata": {},
   "outputs": [
    {
     "name": "stdout",
     "output_type": "stream",
     "text": [
      "train on 3050 instances, test on 1017 instances\n",
      "accuracy: 0.6145526057030481\n",
      "Most Informative Features\n",
      "                 reduces = True              pos : neg    =     20.0 : 1.0\n",
      "                adoption = True              neg : pos    =     14.2 : 1.0\n",
      "              assistance = True              neg : pos    =     13.1 : 1.0\n",
      "                  aids', = True              pos : neg    =     10.8 : 1.0\n",
      "             libertarian = True              neg : pos    =     10.3 : 1.0\n",
      "                   clubs = True              neg : pos    =      9.9 : 1.0\n",
      "                existing = True              pos : neg    =      9.7 : 1.0\n",
      "                   strip = True              neg : pos    =      9.5 : 1.0\n",
      "           hydroelectric = True              neg : pos    =      9.2 : 1.0\n",
      "               political = True              neg : pos    =      8.9 : 1.0\n"
     ]
    }
   ],
   "source": [
    "import nltk.classify.util\n",
    "from nltk.classify import NaiveBayesClassifier\n",
    "from nltk.corpus import movie_reviews\n",
    "import numpy as np\n",
    "import pandas as pd\n",
    "\n",
    "data=pd.read_csv('e_train.csv',sep=',',encoding='utf-8',low_memory=False) \n",
    "\n",
    "#def word_feats(words):\n",
    "#    return dict([(word, True) for word in words])\n",
    "\n",
    "def readCSV2List(filePath):\n",
    "    try:\n",
    "        file=open(filePath,'r', encoding='UTF-8')\n",
    "        context = file.read() \n",
    "        list_result=context.split('\\n')\n",
    "        length=len(list_result)\n",
    "        for i in range(length):\n",
    "            list_result[i]=list_result[i].split(',')\n",
    "        return list_result\n",
    "    finally:\n",
    "        file.close();\n",
    "\n",
    "neg = data[data['label']==0]\n",
    "negcont = neg['candidate']\n",
    "negcont.to_csv('neg_cont.csv')\n",
    "\n",
    "pos = data[data['label']==1]\n",
    "poscont = pos['candidate']\n",
    "poscont.to_csv('pos_cont.csv')\n",
    "\n",
    "data_neg=pd.read_csv('neg_cont.csv',sep=',',encoding='utf-8',low_memory=False) \n",
    "data_pos=pd.read_csv('pos_cont.csv',sep=',',encoding='utf-8',low_memory=False) \n",
    "\n",
    "def preprocess(s):\n",
    "    return {word: True for word in s.lower().split()}\n",
    "\n",
    "list_neg = readCSV2List('neg_cont.csv')\n",
    "negfeats=[(preprocess(str(list_neg[i])), 'neg') for i in range(len(list_neg))]\n",
    "list_pos = readCSV2List('pos_cont.csv')\n",
    "posfeats=[(preprocess(str(list_pos[i])), 'pos') for i in range(len(list_pos))]\n",
    "\n",
    "negcutoff = int(len(negfeats)*3/4)\n",
    "poscutoff = int(len(posfeats)*3/4)\n",
    " \n",
    "trainfeats = negfeats[:negcutoff] + posfeats[:poscutoff]\n",
    "testfeats = negfeats[negcutoff:] + posfeats[poscutoff:]\n",
    "print ('train on %d instances, test on %d instances' % (len(trainfeats), len(testfeats)))\n",
    "\n",
    "classifier = NaiveBayesClassifier.train(trainfeats)\n",
    "print ('accuracy:', nltk.classify.util.accuracy(classifier, testfeats))\n",
    "classifier.show_most_informative_features()"
   ]
  },
  {
   "cell_type": "code",
   "execution_count": 8,
   "metadata": {},
   "outputs": [
    {
     "name": "stdout",
     "output_type": "stream",
     "text": [
      "MultinomialNB accuracy percent: 0.6863323500491643\n",
      "BernoulliNB accuracy percent: 0.6489675516224189\n"
     ]
    }
   ],
   "source": [
    "from nltk.classify.scikitlearn import SklearnClassifier\n",
    "from sklearn.naive_bayes import MultinomialNB,BernoulliNB\n",
    "\n",
    "MNB_classifier = SklearnClassifier(MultinomialNB())\n",
    "MNB_classifier.train(trainfeats)\n",
    "print(\"MultinomialNB accuracy percent:\",nltk.classify.accuracy(MNB_classifier, testfeats))\n",
    "\n",
    "BNB_classifier = SklearnClassifier(BernoulliNB())\n",
    "BNB_classifier.train(trainfeats)\n",
    "print(\"BernoulliNB accuracy percent:\",nltk.classify.accuracy(BNB_classifier, testfeats))\n"
   ]
  },
  {
   "cell_type": "code",
   "execution_count": 6,
   "metadata": {},
   "outputs": [
    {
     "name": "stdout",
     "output_type": "stream",
     "text": [
      "LogisticRegression_classifier accuracy percent: 68.04326450344149\n",
      "SGDClassifier_classifier accuracy percent: 64.40511307767946\n"
     ]
    },
    {
     "name": "stderr",
     "output_type": "stream",
     "text": [
      "C:\\ProgramData\\Anaconda3\\lib\\site-packages\\sklearn\\linear_model\\stochastic_gradient.py:128: FutureWarning: max_iter and tol parameters have been added in <class 'sklearn.linear_model.stochastic_gradient.SGDClassifier'> in 0.19. If both are left unset, they default to max_iter=5 and tol=None. If tol is not None, max_iter defaults to max_iter=1000. From 0.21, default max_iter will be 1000, and default tol will be 1e-3.\n",
      "  \"and default tol will be 1e-3.\" % type(self), FutureWarning)\n"
     ]
    },
    {
     "name": "stdout",
     "output_type": "stream",
     "text": [
      "SVC_classifier accuracy percent: 63.12684365781711\n",
      "LinearSVC_classifier accuracy percent: 66.27335299901671\n",
      "NuSVC_classifier accuracy percent: 66.3716814159292\n"
     ]
    }
   ],
   "source": [
    "from sklearn.linear_model import LogisticRegression,SGDClassifier\n",
    "from sklearn.svm import SVC, LinearSVC, NuSVC\n",
    "\n",
    "LogisticRegression_classifier = SklearnClassifier(LogisticRegression())\n",
    "LogisticRegression_classifier.train(trainfeats)\n",
    "print(\"LogisticRegression_classifier accuracy percent:\", (nltk.classify.accuracy(LogisticRegression_classifier, testfeats))*100)\n",
    "\n",
    "SGDClassifier_classifier = SklearnClassifier(SGDClassifier())\n",
    "SGDClassifier_classifier.train(trainfeats)\n",
    "print(\"SGDClassifier_classifier accuracy percent:\", (nltk.classify.accuracy(SGDClassifier_classifier, testfeats))*100)\n",
    "\n",
    "SVC_classifier = SklearnClassifier(SVC())\n",
    "SVC_classifier.train(trainfeats)\n",
    "print(\"SVC_classifier accuracy percent:\", (nltk.classify.accuracy(SVC_classifier, testfeats))*100)\n",
    "\n",
    "LinearSVC_classifier = SklearnClassifier(LinearSVC())\n",
    "LinearSVC_classifier.train(trainfeats)\n",
    "print(\"LinearSVC_classifier accuracy percent:\", (nltk.classify.accuracy(LinearSVC_classifier, testfeats))*100)\n",
    "\n",
    "NuSVC_classifier = SklearnClassifier(NuSVC())\n",
    "NuSVC_classifier.train(trainfeats)\n",
    "print(\"NuSVC_classifier accuracy percent:\", (nltk.classify.accuracy(NuSVC_classifier, testfeats))*100)"
   ]
  },
  {
   "cell_type": "code",
   "execution_count": null,
   "metadata": {},
   "outputs": [],
   "source": []
  }
 ],
 "metadata": {
  "kernelspec": {
   "display_name": "Python 3",
   "language": "python",
   "name": "python3"
  },
  "language_info": {
   "codemirror_mode": {
    "name": "ipython",
    "version": 3
   },
   "file_extension": ".py",
   "mimetype": "text/x-python",
   "name": "python",
   "nbconvert_exporter": "python",
   "pygments_lexer": "ipython3",
   "version": "3.6.5"
  }
 },
 "nbformat": 4,
 "nbformat_minor": 2
}
