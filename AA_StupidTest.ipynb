{
 "cells": [
  {
   "cell_type": "code",
   "execution_count": 86,
   "metadata": {},
   "outputs": [
    {
     "name": "stdout",
     "output_type": "stream",
     "text": [
      "[[{'this': True, 'is': True, 'a': True, 'good': True, 'book': True}, 'claim'], [{'this': True, 'is': True, 'a': True, 'awesome': True, 'book': True}, 'claim'], [{'because': True, 'a': True, 'bad': True, 'book': True}, 'pre'], [{'not': True, 'a': True, 'terrible': True, 'book': True}, 'pre']]\n",
      "claim\n"
     ]
    }
   ],
   "source": [
    "from nltk.classify import NaiveBayesClassifier\n",
    "\n",
    "s1 = 'this is a good book'\n",
    "s2 = 'this is a awesome book'\n",
    "s3 = 'because a bad book'\n",
    "s4 = 'not a terrible book'\n",
    "\n",
    "def preprocess(s):\n",
    "    return {word: True for word in s.lower().split()}\n",
    "\n",
    "training_data = [[preprocess(s1), 'claim'], [preprocess(s2), 'claim'], [preprocess(s3), 'pre'], [preprocess(s4), 'pre']]\n",
    "\n",
    "print(training_data)\n",
    "model = NaiveBayesClassifier.train(training_data)\n",
    "\n",
    "print(model.classify(preprocess('that is')))"
   ]
  },
  {
   "cell_type": "code",
   "execution_count": null,
   "metadata": {},
   "outputs": [],
   "source": []
  }
 ],
 "metadata": {
  "kernelspec": {
   "display_name": "Python 3",
   "language": "python",
   "name": "python3"
  },
  "language_info": {
   "codemirror_mode": {
    "name": "ipython",
    "version": 3
   },
   "file_extension": ".py",
   "mimetype": "text/x-python",
   "name": "python",
   "nbconvert_exporter": "python",
   "pygments_lexer": "ipython3",
   "version": "3.6.5"
  }
 },
 "nbformat": 4,
 "nbformat_minor": 2
}
